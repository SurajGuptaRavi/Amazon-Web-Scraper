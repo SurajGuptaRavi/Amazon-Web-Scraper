{
 "cells": [
  {
   "cell_type": "code",
   "execution_count": 35,
   "metadata": {},
   "outputs": [],
   "source": [
    "import selenium\n",
    "from selenium import webdriver\n",
    "import time\n",
    "import os\n",
    "from selenium.webdriver.common import keys\n",
    "import json"
   ]
  },
  {
   "cell_type": "code",
   "execution_count": 42,
   "metadata": {},
   "outputs": [],
   "source": [
    "#initializing the chrome driver\n",
    "chrome_driver = os.path.join(os.getcwd(),\"chromedriver/chromedriver.exe\")\n",
    "driver = webdriver.Chrome(chrome_driver)\n",
    "driver.get(\"https://www.Amazon.com\")"
   ]
  },
  {
   "cell_type": "code",
   "execution_count": 43,
   "metadata": {},
   "outputs": [
    {
     "name": "stdout",
     "output_type": "stream",
     "text": [
      "Enter the Product to searchredmi note 8\n"
     ]
    }
   ],
   "source": [
    "#Finding the search button\n",
    "search_box = driver.find_element_by_id(\"twotabsearchtextbox\")\n",
    "#For making the search\n",
    "search_box.send_keys(input(\"Enter the Product to search\")+\"\\n\")"
   ]
  },
  {
   "cell_type": "code",
   "execution_count": 44,
   "metadata": {},
   "outputs": [],
   "source": [
    "results = driver.find_elements_by_class_name(\"s-latency-cf-section\")"
   ]
  },
  {
   "cell_type": "code",
   "execution_count": 45,
   "metadata": {},
   "outputs": [
    {
     "name": "stdout",
     "output_type": "stream",
     "text": [
      "{'products': [{'image_url': 'https://m.media-amazon.com/images/I/61PXCTE2w7L._AC_UY218_.jpg', 'name': 'Phone Case for Redmi Note 8 [ Military Grade ] 15ft. Drop Tested Protective Case with Magnetic Car Mount Ring Holder Stand Cover for Redmi Note 8 - Blue', 'price': '$1199', 'ratings': '2'}, {'image_url': 'https://m.media-amazon.com/images/I/61YjtJEsM2L._AC_UY218_.jpg', 'name': \"Amazon's Choice\", 'price': '5,486$174', 'ratings': 'Xiaomi Redmi Note 8 6.3\" 64GB 4GB RAM (GSM Only, No CDMA) Internationa Version - No Warranty (Space Black)'}, {'image_url': 'https://m.media-amazon.com/images/I/614SXkxbX+L._AC_UY218_.jpg', 'name': 'Xiaomi Redmi Note 8 128GB 4GB RAM 48MP Factory Unlocked Global Version Dual SIM Smartphone (Neptune Blue)', 'price': '$19998', 'ratings': '1,149'}, {'image_url': 'https://m.media-amazon.com/images/I/81UgYuadkpL._AC_UY218_.jpg', 'name': 'Xiaomi Redmi Note 8 Pro 128GB, 6GB RAM 6.53\" LTE GSM 64MP Smartphone - Global Model (Mineral Grey)', 'price': '$23189', 'ratings': '8,605'}, {'image_url': 'https://m.media-amazon.com/images/I/51a8Kp05YAL._AC_UY218_.jpg', 'name': 'Xiaomi Redmi Note 8 128GB 4GB RAM 48MP Factory Unlocked Global Version Dual SIM Smartphone (Space Black)', 'price': '$19999', 'ratings': '680'}, {'image_url': 'https://m.media-amazon.com/images/I/5116LXitm1L._AC_UY218_.jpg', 'name': 'Xiaomi Redmi Note 8 (64GB, 4GB) 6.3\" Display, Snapdragon 665, 48MP Quad Camera, Dual SIM GSM Factory Unlocked - US & Global 4G LTE International Version (Space Black, 64GB +Case Bundle)', 'price': '$19999', 'ratings': '76'}, {'image_url': 'https://m.media-amazon.com/images/I/61ZzmOm+pAL._AC_UY218_.jpg', 'name': 'Xiaomi Redmi Note 9 Pro 128GB + 6GB RAM, 6.67\" FHD+ DotDisplay, 64MP AI Quad Camera, Qualcomm Snapdragon 720G LTE Factory Unlocked Smartphone - International Version (Glacier White)', 'price': '$27998', 'ratings': '33'}, {'image_url': 'https://m.media-amazon.com/images/I/61cfL8FLY-L._AC_UY218_.jpg', 'name': 'Xiaomi Redmi Note 9 DualSim 6.53\" 48MP International Global Version (Forest Green, 3GB/64GB)', 'price': '$17498', 'ratings': '7'}, {'image_url': 'https://m.media-amazon.com/images/I/61H76vlOzwL._AC_UY218_.jpg', 'name': 'Xiaomi Redmi Note 9 4GB RAM + 128GB, 48MP Quad Camera Hotshot, 5020mah Battery, 6.53 ”FHD +, LTE Factory Unlocked Smartphone - International Version (Forest Green)', 'price': '$20999', 'ratings': '17'}, {'image_url': 'https://m.media-amazon.com/images/I/51UNwLlzAuL._AC_UY218_.jpg', 'name': 'Xiao Mi Redmi Note 8 Back Glass Replacement Cover Housing Door W/Tape Panel Prats for Xiaomi Redmi Note 8 All Model+Tool (Space Black)', 'price': '99Ships to India', 'ratings': '$12'}, {'image_url': 'https://m.media-amazon.com/images/I/71VGQk98MHL._AC_UY218_.jpg', 'name': 'Phone Case for Redmi Note 8 [ Military Grade ] Shock-Absorption Bumper Cover Anti-Scratch Case with Ring Car Mount Kickstand for Redmi Note 8 - Teal', 'price': '$1199', 'ratings': '1'}, {'image_url': 'https://m.media-amazon.com/images/I/51agFejOA+L._AC_UY218_.jpg', 'name': 'Xiaomi Redmi Note 8 (128GB, 4GB) 6.3\",Quad Camera, Dual SIM GSM Factory Unlocked - US & Global 4G LTE International Version (Neptune Blue, 128GB + 64GB SD + Case Bundle)', 'price': '$19999', 'ratings': '31'}, {'image_url': 'https://m.media-amazon.com/images/I/61icJqHGJzL._AC_UY218_.jpg', 'name': 'Xiaomi Redmi Note 9S 6.67\" 48MP International Global Version (Glacier White, 6GB/128GB)', 'price': '$23247', 'ratings': '72'}, {'image_url': 'https://m.media-amazon.com/images/I/51U74AZGyBL._AC_UY218_.jpg', 'name': 'Xiaomi Redmi 8A (32GB, 2GB RAM) 6.22\" HD Display, Snapdragon 439, 5000mAh Battery, Dual SIM GSM Unlocked - US & Global 4G LTE International Version (Midnight Black, 32 GB)', 'price': '$12989', 'ratings': '327'}, {'image_url': 'https://m.media-amazon.com/images/I/71K5mOrvM3L._AC_UY218_.jpg', 'name': 'Xiaomi Redmi Note 9 Pro 64GB + 6GB RAM, 6.67\" FHD+ DotDisplay, 64MP AI Quad Camera, Qualcomm Snapdragon 720G LTE Factory Unlocked Smartphone - International Version (Glacier White)', 'price': '$24800', 'ratings': '7'}, {'image_url': 'https://m.media-amazon.com/images/I/41VXMofArVL._AC_UY218_.jpg', 'name': 'Xiaomi Mi Note 10 Lite 6.47\" 64MP DualSim International Global Version (Nebula Purple, 6GB/128gb)', 'price': '$32998', 'ratings': '17'}, {'image_url': 'https://m.media-amazon.com/images/I/71FZKeWL9yL._AC_UY218_.jpg', 'name': 'NUU Mobile G3 Unlocked Cell Phone 64GB + 4GB RAM - 5.7\" Android Smartphone - Sapphire Blue', 'price': '$15997', 'ratings': '148'}, {'image_url': 'https://m.media-amazon.com/images/I/61rB5Q7E9YL._AC_UY218_.jpg', 'name': 'Xiaomi Mi 8 Lite (64GB, 4GB RAM) 6.26\" Full Screen Display, Snapdragon 660, Dual AI Camera\\'s, Factory Unlocked Phone - International Global 4G LTE Version (Black)', 'price': '$17999', 'ratings': '3,217'}]}\n"
     ]
    }
   ],
   "source": [
    "#finding the images of the products\n",
    "images = driver.find_elements_by_tag_name('img')\n",
    "image_list = []\n",
    "for each_image in images:\n",
    "    if each_image.get_attribute('alt').strip():\n",
    "        image_list.append(each_image.get_attribute('src'))\n",
    "        \n",
    "\n",
    "#result will be stored n the data\n",
    "data={'products':[]}\n",
    "each_detail = {}\n",
    "i=0\n",
    "for each_result in results[1:]:\n",
    "    each_detail = {}\n",
    "    \n",
    "    try:\n",
    "        each_result = each_result.text.split('\\n')\n",
    "        if each_result !=['']:\n",
    "            if each_result[0] == \"Sponsored\":\n",
    "                each_detail['image_url'] = image_list[i]\n",
    "                each_detail['name'] = each_result[1]\n",
    "                each_detail['price'] =   each_result[3] + each_result[4]\n",
    "                each_detail['ratings'] = each_result[2]\n",
    "                data['products'].append(each_detail)\n",
    "            else:\n",
    "                each_detail['image_url'] = image_list[i]\n",
    "                each_detail['name'] = each_result[0]\n",
    "                each_detail['price'] = each_result[2] + each_result[3]\n",
    "                each_detail['ratings'] = each_result[1]\n",
    "                data['products'].append(each_detail)\n",
    "                \n",
    "            \n",
    "        i+=1\n",
    "    except:\n",
    "        pass\n",
    "else:\n",
    "    print(data)"
   ]
  },
  {
   "cell_type": "code",
   "execution_count": 46,
   "metadata": {},
   "outputs": [],
   "source": [
    "#storing the data in search_result.json file\n",
    "with open(\"search_result.json\",\"w\") as f:\n",
    "    f.write(json.dumps(data))"
   ]
  },
  {
   "cell_type": "code",
   "execution_count": 47,
   "metadata": {},
   "outputs": [],
   "source": [
    "driver.quit()"
   ]
  },
  {
   "cell_type": "code",
   "execution_count": null,
   "metadata": {},
   "outputs": [],
   "source": []
  }
 ],
 "metadata": {
  "kernelspec": {
   "display_name": "Python 3",
   "language": "python",
   "name": "python3"
  },
  "language_info": {
   "codemirror_mode": {
    "name": "ipython",
    "version": 3
   },
   "file_extension": ".py",
   "mimetype": "text/x-python",
   "name": "python",
   "nbconvert_exporter": "python",
   "pygments_lexer": "ipython3",
   "version": "3.6.5"
  }
 },
 "nbformat": 4,
 "nbformat_minor": 4
}
