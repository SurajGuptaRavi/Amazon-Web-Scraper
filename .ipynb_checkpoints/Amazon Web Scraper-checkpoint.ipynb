{
 "cells": [
  {
   "cell_type": "code",
   "execution_count": 1,
   "metadata": {},
   "outputs": [],
   "source": [
    "import selenium\n",
    "from selenium import webdriver\n",
    "import time\n",
    "import os\n",
    "from selenium.webdriver.common import keys\n",
    "import json"
   ]
  },
  {
   "cell_type": "code",
   "execution_count": 23,
   "metadata": {},
   "outputs": [],
   "source": [
    "#initializing the chrome driver\n",
    "chrome_driver = os.path.join(os.getcwd(),\"chromedriver/chromedriver.exe\")\n",
    "driver = webdriver.Chrome(chrome_driver)\n",
    "driver.get(\"https://www.Amazon.com\")"
   ]
  },
  {
   "cell_type": "code",
   "execution_count": 24,
   "metadata": {},
   "outputs": [
    {
     "name": "stdout",
     "output_type": "stream",
     "text": [
      "Enter the Product to searchsmartphone\n"
     ]
    }
   ],
   "source": [
    "#Finding the search button\n",
    "search_box = driver.find_element_by_id(\"twotabsearchtextbox\")\n",
    "#For making the search\n",
    "search_box.send_keys(input(\"Enter the Product to search\")+\"\\n\")"
   ]
  },
  {
   "cell_type": "code",
   "execution_count": 25,
   "metadata": {},
   "outputs": [],
   "source": [
    "results = driver.find_elements_by_class_name(\"s-latency-cf-section\")"
   ]
  },
  {
   "cell_type": "code",
   "execution_count": 26,
   "metadata": {},
   "outputs": [
    {
     "name": "stdout",
     "output_type": "stream",
     "text": [
      "['BLU Studio Mini -5.5HD Smartphone, 32GB+2GB Ram -Black', '843', '$59', '99', '$79.99', 'Ships to India']\n",
      "['BLU Advance S5 HD – Unlocked Single Sim Smartphone, 16GB+1GB RAM -Black', '400', '$49', '99', 'Ships to India']\n",
      "['TCL 10L, Unlocked Android Smartphone with 6.53\" FHD + LCD Display, 48MP Quad Rear Camera System, 64GB+6GB RAM, 4000mAh Battery', '132', '$249', '99', 'Ships to India']\n",
      "['Samsung Galaxy A10s A107M - 32GB, 6.2\" HD+ Infinity-V Display, 13MP+2MP Dual Rear +8MP Front Cameras, GSM Unlocked Smartphone - Blue', '1,096', '$145', '00', 'Ships to India', 'More Buying Choices', '$127.94 (14 used & new offers)']\n",
      "['Xiaomi Redmi Note 8 Pro 64GB, 6GB RAM 6.53\" LTE GSM 64MP Factory Unlocked Smartphone - Global Model (Forest Green)', '8,605', '$229', '99', 'Ships to India', 'Only 3 left in stock - order soon.', 'More Buying Choices', '$209.99 (7 new offers)']\n",
      "['Xiaomi Redmi Note 9 Pro 128GB + 6GB RAM, 6.67\" FHD+ DotDisplay, 64MP AI Quad Camera, Qualcomm Snapdragon 720G LTE Factory Unlocked Smartphone - International Version (Interstellar Grey)', '36', '$279', '98', 'Ships to India', 'Only 15 left in stock - order soon.', 'More Buying Choices', '$279.89 (4 new offers)']\n",
      "['Xiaomi Mi Note 10 128GB 108MP Penta Camera 6.47″ LTE Factory Unlocked Smartphone (International Version) (Midnight Black)', '588', '$417', '98', 'Ships to India', 'More Buying Choices', '$369.99 (7 used & new offers)']\n",
      "['Nokia 1.3 Fully Unlocked Smartphone with 5.7\" HD+ Screen, AI-Powered 8 MP Camera and Android 10 Go Edition, Charcoal, 2020 (AT&T/T-Mobile/Cricket/Tracfone/Simple Mobile)', '6', '$99', '99', 'Ships to India', 'More Buying Choices', '$87.87 (3 used & new offers)']\n",
      "['Sponsored', 'Nokia 1.3 Fully Unlocked Smartphone with 5.7\" HD+ Screen, AI-Powered 8 MP Camera and Android 10 Go Edition, Cyan, 2020 (AT&T/T-Mobile/Cricket/Tracfone/Simple Mobile)', '8', '$99', '00', 'Ships to India']\n",
      "['Sponsored', 'Samsung Galaxy Note20 5G Factory Unlocked Android Cell Phone | US Version | 128GB of Storage | Mobile Gaming Smartphone | Long-Lasting Battery | Mystic Green', '$999', '99', 'Ships to India', 'This item will be released on August 21, 2020.']\n",
      "['BLU G9 Pro -6.3” Full HD Smartphone with Triple Main Camera, 128GB+4GB RAM -Black', '74', '$179', '99', '$249.99', 'Ships to India']\n",
      "['Nokia 7.2 - Android 9.0 Pie - 128 GB - 48MP Triple Camera - Unlocked Smartphone (AT&T/T-Mobile/MetroPCS/Cricket/Mint) - 6.3\" FHD+ HDR Screen - Charcoal - U.S. Warranty', '204', '$345', '51', 'Ships to India', 'More Buying Choices', '$229.99 (15 used & new offers)']\n",
      "['Rugged Cell Phone Unlocked OUKITEL WP5,8000mAh Battery, Android 10.0 Rugged Smartphone,5.5 Inch 4GB RAM+32GB ROM,IP68 Waterproof Shockproof Phone with 4 LED Flashlights,Triple Camera,Dual SIM 4G', '56', '$149', '99', 'Ships to India']\n",
      "['Samsung Galaxy Note 20 Ultra 5G Factory Unlocked Android Cell Phone | US Version | 128GB of Storage | Mobile Gaming Smartphone | Long-Lasting Battery | Mystic Bronze', '$1,299', '99', 'Ships to India', 'This item will be released on August 21, 2020.']\n",
      "['Google - Pixel 3a with 64GB Memory Cell Phone (Unlocked) - Just Black', '4,722', '$405', '99', 'Ships to India', 'More Buying Choices', '$239.99 (55 used & new offers)']\n",
      "[\"Samsung Galaxy A20s A207M/DS, 32GB/3GB RAM Dual SIM 6.5''HD+ Snapdragon 450, Factory Unlocked (International Version) - (Red)\", '1,534', '$169', '00', 'Ships to India', 'More Buying Choices', '$149.99 (14 used & new offers)']\n",
      "['BLU VIVO X6-6.1” HD+ Display, 64GB+3GB RAM - Gradient Blue', '537', '$109', '99', 'Ships to India', 'More Buying Choices', '$99.99 (6 used & new offers)']\n",
      "['OnePlus 8 Pro Ultramarine Blue, 5G Unlocked Android Smartphone U.S Version, 12GB RAM+256GB Storage, 120Hz Fluid Display,Quad Camera, Wireless Charge, with Alexa Built-in', '248', '$999', '00', 'Ships to India', 'More Buying Choices', '$849.15 (7 used & new offers)', 'Amazon Certified: Alexa Built-in']\n",
      "['Sponsored', 'Nokia 2.3 Fully Unlocked Smartphone with AI-Powered Dual Camera and Android 10 Ready, Charcoal (AT&T/T-Mobile/Cricket/Tracfone/Simple Mobile)', '84', '$129', '99', 'Ships to India']\n",
      "['Sponsored', 'Nokia 6.2 - Android 9.0 Pie - 64 GB - Triple Camera - Unlocked Smartphone (AT&T/T-Mobile/MetroPCS/Cricket/Mint) - 6.3\" FHD+ HDR Screen - Ice Blue - U.S. Warranty', '86', '$249', '00', 'Ships to India']\n",
      "['Sponsored', 'Nokia 5.3 Fully Unlocked Smartphone with 6.55\" HD+ Screen, AI-Powered Quad Camera and Android 10, Cyan, 2020 (AT&T/T-Mobile/Cricket/Tracfone/Simple Mobile)', '18', '$199', '00', 'Ships to India']\n",
      "['Sponsored', 'Nokia 7.2 - Android 9.0 Pie - 128 GB - 48MP Triple Camera - Unlocked Smartphone (AT&T/T-Mobile/MetroPCS/Cricket/Mint) - 6.3\" FHD+ HDR Screen - Green - U.S. Warranty, Model:TA-1178', '101', '$349', '00', 'Ships to India']\n"
     ]
    }
   ],
   "source": [
    "#finding the images of the products\n",
    "images = driver.find_elements_by_tag_name('img')\n",
    "image_list = []\n",
    "for each_image in images:\n",
    "    if each_image.get_attribute('alt').strip():\n",
    "        image_list.append(each_image.get_attribute('src'))\n",
    "        \n",
    "\n",
    "#result will be stored n the data\n",
    "data={'products':[]}\n",
    "each_detail = {}\n",
    "i=0\n",
    "for each_result in results[1:]:\n",
    "    each_detail = {}\n",
    "    \n",
    "    try:\n",
    "        each_result = each_result.text.split('\\n')\n",
    "        if each_result !=['']:\n",
    "        \n",
    "            each_detail['image_url'] = image_list[i]\n",
    "            each_detail['name'] = each_result[0]\n",
    "            each_detail['price'] = each_result[2] + each_result[3]\n",
    "            each_detail['ratings'] = each_result[1]\n",
    "            data['products'].append(each_detail) \n",
    "            \n",
    "        i+=1\n",
    "    except:\n",
    "        pass\n",
    "else:\n",
    "    print(data)"
   ]
  },
  {
   "cell_type": "code",
   "execution_count": 27,
   "metadata": {},
   "outputs": [],
   "source": [
    "#storing the data in search_result.json file\n",
    "with open(\"search_result.json\",\"w\") as f:\n",
    "    f.write(json.dumps(data))"
   ]
  },
  {
   "cell_type": "code",
   "execution_count": 28,
   "metadata": {},
   "outputs": [],
   "source": [
    "driver.quit()"
   ]
  },
  {
   "cell_type": "code",
   "execution_count": null,
   "metadata": {},
   "outputs": [],
   "source": []
  }
 ],
 "metadata": {
  "kernelspec": {
   "display_name": "Python 3",
   "language": "python",
   "name": "python3"
  },
  "language_info": {
   "codemirror_mode": {
    "name": "ipython",
    "version": 3
   },
   "file_extension": ".py",
   "mimetype": "text/x-python",
   "name": "python",
   "nbconvert_exporter": "python",
   "pygments_lexer": "ipython3",
   "version": "3.6.5"
  }
 },
 "nbformat": 4,
 "nbformat_minor": 4
}
